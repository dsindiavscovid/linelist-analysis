{
 "cells": [
  {
   "cell_type": "markdown",
   "metadata": {},
   "source": [
    "# Mumbai legacy linelist data: Suspected dates"
   ]
  },
  {
   "cell_type": "markdown",
   "metadata": {},
   "source": [
    "Identify and convert suspected dates.\n",
    "\n",
    "Write out expressions to be satisfied for each column.\n",
    "For each column, a suspected cell has two possible dates - the current date and an alternate date.\n",
    "Check which of these two dates satisfies the necessary column conditions. \n",
    "Set the cell value and status (GOOD_PARSE or BAD_PARSE) accordingly."
   ]
  },
  {
   "cell_type": "code",
   "execution_count": null,
   "metadata": {},
   "outputs": [],
   "source": [
    "import pandas as pd\n",
    "import numpy as np\n",
    "\n",
    "import datetime as dt\n",
    "from datetime import timedelta\n",
    "\n",
    "from toolz import interleave"
   ]
  },
  {
   "cell_type": "markdown",
   "metadata": {},
   "source": [
    "## Read data"
   ]
  },
  {
   "cell_type": "code",
   "execution_count": null,
   "metadata": {},
   "outputs": [],
   "source": [
    "infile=\"../data/consolidated_wards_clean.csv\""
   ]
  },
  {
   "cell_type": "code",
   "execution_count": null,
   "metadata": {},
   "outputs": [],
   "source": [
    "D = pd.read_csv(infile,header=0, low_memory=False)"
   ]
  },
  {
   "cell_type": "code",
   "execution_count": null,
   "metadata": {},
   "outputs": [],
   "source": [
    "original = D.copy(deep=True) # Used later for validation"
   ]
  },
  {
   "cell_type": "code",
   "execution_count": null,
   "metadata": {},
   "outputs": [],
   "source": [
    "D.columns"
   ]
  },
  {
   "cell_type": "markdown",
   "metadata": {},
   "source": [
    "## Declarations"
   ]
  },
  {
   "cell_type": "code",
   "execution_count": null,
   "metadata": {},
   "outputs": [],
   "source": [
    "# Order dates in ascending order? Order of processing\n",
    "\n",
    "date_columns = [\n",
    "    'Date of Admission',\n",
    "    'Date of Outcome',\n",
    "    'Date of Sample Collection (FIRST)',\n",
    "    'Date of Sample Collection (Second)', \n",
    "    'Date of Sample Collection (Third)',\n",
    "    'Date of Sample Collection (Fourth)',\n",
    "    'Date of Sample Collection (Fifth)', \n",
    "    'Date of Sample Collection (Sixth)',\n",
    "    'Date of last test (to be left blank)'\n",
    "]\n",
    "\n",
    "review_columns = [col+'_Review' for col in date_columns]"
   ]
  },
  {
   "cell_type": "code",
   "execution_count": null,
   "metadata": {},
   "outputs": [],
   "source": [
    "valid_interval = [dt.date(2020, 3, 10), dt.date(2020, 6, 10)]"
   ]
  },
  {
   "cell_type": "code",
   "execution_count": null,
   "metadata": {},
   "outputs": [],
   "source": [
    "order_conditions={}\n",
    "\n",
    "order_conditions['Date of Admission'] = [\n",
    "    {\n",
    "        'other_col': \"Date of Outcome\", \n",
    "        'expression':\"dt.datetime.strptime(x['Date of Admission'],'%Y-%m-%d')\\\n",
    "        <=dt.datetime.strptime(x['Date of Outcome'],'%Y-%m-%d')\"\n",
    "    },\n",
    "    {\n",
    "        'other_col': \"Date of Sample Collection (FIRST)\", \n",
    "        'expression':\"(dt.datetime.strptime(x['Date of Admission'],'%Y-%m-%d')\\\n",
    "        <=dt.datetime.strptime(x['Date of Sample Collection (FIRST)'],'%Y-%m-%d')\\\n",
    "        +timedelta(10)) \\\n",
    "        and (dt.datetime.strptime(x['Date of Admission'],'%Y-%m-%d') \\\n",
    "        >=dt.datetime.strptime(x['Date of Sample Collection (FIRST)'],'%Y-%m-%d')\\\n",
    "        -timedelta(10))\"\n",
    "    }                              \n",
    "]\n",
    "\n",
    "order_conditions['Date of Outcome'] = [\n",
    "    {\n",
    "        'other_col': \"Date of Admission\", \n",
    "        'expression':\"dt.datetime.strptime(x['Date of Outcome'],'%Y-%m-%d')\\\n",
    "        >=dt.datetime.strptime(x['Date of Admission'],'%Y-%m-%d')\"\n",
    "    },\n",
    "    {\n",
    "        'other_col': \"Date of Sample Collection (FIRST)\", \n",
    "        'expression':\"dt.datetime.strptime(x['Date of Sample Collection (FIRST)'],'%Y-%m-%d')\\\n",
    "        <=dt.datetime.strptime(x['Date of Outcome'],'%Y-%m-%d')\"\n",
    "    }                             \n",
    "]\n",
    "\n",
    "order_conditions['Date of Sample Collection (FIRST)'] = [\n",
    "    {\n",
    "        'other_col': \"Date of Outcome\", \n",
    "        'expression':\"dt.datetime.strptime(x['Date of Sample Collection (FIRST)'],'%Y-%m-%d')\\\n",
    "        <=dt.datetime.strptime(x['Date of Outcome'],'%Y-%m-%d')\"\n",
    "    },\n",
    "    {\n",
    "        'other_col': \"Date of Sample Collection (Second)\", \n",
    "        'expression':\"dt.datetime.strptime(x['Date of Sample Collection (FIRST)'],'%Y-%m-%d')\\\n",
    "        <=dt.datetime.strptime(x['Date of Sample Collection (Second)'],'%Y-%m-%d')\"\n",
    "    }                             \n",
    "]\n",
    "\n",
    "order_conditions['Date of Sample Collection (Second)'] = [\n",
    "    {\n",
    "        'other_col': \"Date of Sample Collection (FIRST)\", \n",
    "        'expression':\"dt.datetime.strptime(x['Date of Sample Collection (FIRST)'],'%Y-%m-%d')\\\n",
    "        <=dt.datetime.strptime(x['Date of Sample Collection (Second)'],'%Y-%m-%d')\"\n",
    "    },\n",
    "    {\n",
    "        'other_col': \"Date of Sample Collection (Third)\", \n",
    "        'expression':\"dt.datetime.strptime(x['Date of Sample Collection (Second)'],'%Y-%m-%d')\\\n",
    "        <=dt.datetime.strptime(x['Date of Sample Collection (Third)'],'%Y-%m-%d')\"\n",
    "    }                             \n",
    "]\n",
    "\n",
    "order_conditions['Date of Sample Collection (Third)'] = [\n",
    "    {\n",
    "        'other_col': \"Date of Sample Collection (Second)\", \n",
    "        'expression':\"dt.datetime.strptime(x['Date of Sample Collection (Second)'],'%Y-%m-%d')\\\n",
    "        <=dt.datetime.strptime(x['Date of Sample Collection (Third)'],'%Y-%m-%d')\"\n",
    "    },\n",
    "    {\n",
    "        'other_col': \"Date of Sample Collection (Fourth)\", \n",
    "        'expression':\"dt.datetime.strptime(x['Date of Sample Collection (Third)'],'%Y-%m-%d')\\\n",
    "        <=dt.datetime.strptime(x['Date of Sample Collection (Fourth)'],'%Y-%m-%d')\"\n",
    "    }                             \n",
    "]\n",
    "\n",
    "order_conditions['Date of Sample Collection (Fourth)'] = [\n",
    "    {\n",
    "        'other_col': \"Date of Sample Collection (Third)\", \n",
    "        'expression':\"dt.datetime.strptime(x['Date of Sample Collection (Third)'],'%Y-%m-%d')\\\n",
    "        <=dt.datetime.strptime(x['Date of Sample Collection (Fourth)'],'%Y-%m-%d')\"\n",
    "    },\n",
    "    {\n",
    "        'other_col': \"Date of Sample Collection (Fifth)\", \n",
    "        'expression':\"dt.datetime.strptime(x['Date of Sample Collection (Fourth)'],'%Y-%m-%d')\\\n",
    "        <=dt.datetime.strptime(x['Date of Sample Collection (Fifth)'],'%Y-%m-%d')\"\n",
    "    }                             \n",
    "]\n",
    "\n",
    "order_conditions['Date of Sample Collection (Fifth)'] = [\n",
    "    {\n",
    "        'other_col': \"Date of Sample Collection (Fourth)\", \n",
    "        'expression':\"dt.datetime.strptime(x['Date of Sample Collection (Fourth)'],'%Y-%m-%d')\\\n",
    "        <=dt.datetime.strptime(x['Date of Sample Collection (Fifth)'],'%Y-%m-%d')\"\n",
    "    },\n",
    "    {\n",
    "        'other_col': \"Date of Sample Collection (Sixth)\", \n",
    "        'expression':\"dt.datetime.strptime(x['Date of Sample Collection (Fifth)'],'%Y-%m-%d')\\\n",
    "        <=dt.datetime.strptime(x['Date of Sample Collection (Sixth)'],'%Y-%m-%d')\"\n",
    "    }                             \n",
    "]\n",
    "\n",
    "order_conditions['Date of Sample Collection (Sixth)'] = [\n",
    "    {\n",
    "        'other_col': \"Date of Sample Collection (Fifth)\", \n",
    "        'expression':\"dt.datetime.strptime(x['Date of Sample Collection (Fifth)'],'%Y-%m-%d')\\\n",
    "        <=dt.datetime.strptime(x['Date of Sample Collection (Sixth)'],'%Y-%m-%d')\"\n",
    "    },\n",
    "    {\n",
    "        'other_col': \"Date of last test (to be left blank)\", \n",
    "        'expression':\"dt.datetime.strptime(x['Date of Sample Collection (Sixth)'],'%Y-%m-%d')\\\n",
    "        <=dt.datetime.strptime(x['Date of last test (to be left blank)'],'%Y-%m-%d')\"\n",
    "    }  \n",
    "]\n",
    "\n",
    "order_conditions['Date of last test (to be left blank)'] = [\n",
    "    {\n",
    "        'other_col': \"Date of Sample Collection (Sixth)\", \n",
    "        'expression':\"dt.datetime.strptime(x['Date of last test (to be left blank)'],'%Y-%m-%d')\\\n",
    "        >=dt.datetime.strptime(x['Date of Sample Collection (Sixth)'],'%Y-%m-%d')\"\n",
    "    }  \n",
    "]\n",
    "\n",
    "\n",
    "# Other conditions:\n",
    "# Date of Outcome >= Date of Admission\n",
    "# Date of Outcome >= Date of Sample Collection (FIRST)\n",
    "\n",
    "# Date of Sample Collection (n) > Date of Sample Collection (n-1)\n",
    "\n",
    "# Last Test > Sample Collection??"
   ]
  },
  {
   "cell_type": "markdown",
   "metadata": {},
   "source": [
    "## Parsing functions"
   ]
  },
  {
   "cell_type": "code",
   "execution_count": null,
   "metadata": {},
   "outputs": [],
   "source": [
    "def alternate_valid_date(x,valid_interval):\n",
    "    \"\"\"Find alternate date when there is ambiguity in date parsing.\n",
    "    Args:\n",
    "        x(str): input date\n",
    "        valid_interval(list[datetime.datetime], len=2): lower and upper bounds of acceptable dates\n",
    "    Returns:\n",
    "        str/None: Date obtained by exchanging day and month, None if invalid\n",
    "    \"\"\"\n",
    "    y=None\n",
    "    valid_start, valid_end = valid_interval\n",
    "    x = dt.datetime.strptime(x, \"%Y-%m-%d\")\n",
    "    y= dt.date(x.year,x.day,x.month)\n",
    "    if ((y > valid_end) or (y < valid_start)):\n",
    "         y=None  \n",
    "    else:\n",
    "        y = y.strftime(\"%Y-%m-%d\")\n",
    "    return y"
   ]
  },
  {
   "cell_type": "code",
   "execution_count": null,
   "metadata": {},
   "outputs": [],
   "source": [
    "def choose_date(x):\n",
    "    \"\"\"Choose a date from two dates and assign review status\"\"\"\n",
    "    review = 'SUSPECTED_PARSE'\n",
    "    result = x['current']\n",
    "    \n",
    "    # both dates - problematic - BAD PARSE\n",
    "    if (not x['status_current'] and not x['status_alternate']):\n",
    "        review ='BAD_PARSE'\n",
    "        \n",
    "    # only one is good - GOOD PARSE and switch value if necessary\n",
    "    elif (x['status_current'] or x['status_alternate']):\n",
    "        if x['status_alternate']:\n",
    "            result = x['alternate']     \n",
    "        review ='GOOD_PARSE'\n",
    "        \n",
    "    # both values are bad - BAD PARSE\n",
    "    else:\n",
    "        review ='BAD_PARSE'\n",
    "    return (result, review)"
   ]
  },
  {
   "cell_type": "code",
   "execution_count": null,
   "metadata": {},
   "outputs": [],
   "source": [
    "def eval_expression(x, expr):\n",
    "    try:\n",
    "        return eval(expr)\n",
    "    except:\n",
    "        pass\n",
    "    return False"
   ]
  },
  {
   "cell_type": "code",
   "execution_count": null,
   "metadata": {},
   "outputs": [],
   "source": [
    "# TODO: Refactor this (for efficiency)\n",
    "\n",
    "def process_one_col(D, col, constraints):\n",
    "    \n",
    "    # create the alternate date as long as it is valid\n",
    "    alternate = D[col].apply(lambda x: alternate_valid_date(x,valid_interval))\n",
    "    D_alternate = D.copy()\n",
    "    D_alternate[col] =  alternate\n",
    "    \n",
    "    status_current = [None]*D[col].shape[0]\n",
    "    status_alternate = [None]*D[col].shape[0]\n",
    "    \n",
    "    # loop through constraints\n",
    "    for constraint in constraints:\n",
    "        other_col_review = constraint['other_col'] + \"_Review\"\n",
    "        other_good = D[other_col_review].apply(lambda x: x == 'GOOD_PARSE').to_list()\n",
    "\n",
    "        t1 = D.apply(lambda x: eval_expression(x, constraint['expression']),axis=1).to_list()\n",
    "        for i in range(len(status_current)):\n",
    "            if status_current[i] is None:\n",
    "                status_current[i] = other_good[i] and t1[i]\n",
    "            else:\n",
    "                status_current[i] = status_current[i] and (other_good[i] and t1[i])\n",
    "        t2 = D_alternate.apply(lambda x: eval_expression(x, constraint['expression']),axis=1).to_list()\n",
    "        for i in range(len(status_alternate)):\n",
    "            if status_alternate[i] is None:\n",
    "                status_alternate[i] = other_good[i] and t2[i]\n",
    "            else:\n",
    "                status_alternate[i] = status_alternate[i] and (other_good[i] and t2[i])\n",
    "    \n",
    "    # collect the ones required for decision\n",
    "    D_tmp = pd.DataFrame()\n",
    "    D_tmp['current'] = D[col]\n",
    "    D_tmp['alternate'] = alternate\n",
    "    D_tmp['status_alternate'] = status_alternate\n",
    "    D_tmp['status_current'] = status_current\n",
    "                                                   \n",
    "    # get the new value and review status\n",
    "    if len(D_tmp):\n",
    "        D[col] = D_tmp.apply(lambda x: choose_date(x)[0], axis=1)\n",
    "        D[col+\"_Review\"] = D_tmp.apply(lambda x: choose_date(x)[1], axis=1)\n",
    "                                    \n",
    "    return D"
   ]
  },
  {
   "cell_type": "markdown",
   "metadata": {},
   "source": [
    "## Process dates"
   ]
  },
  {
   "cell_type": "code",
   "execution_count": null,
   "metadata": {},
   "outputs": [],
   "source": [
    "vc_1 = D.iloc[:,40:].apply(lambda x: x.value_counts()).T.stack()"
   ]
  },
  {
   "cell_type": "code",
   "execution_count": null,
   "metadata": {
    "scrolled": true
   },
   "outputs": [],
   "source": [
    "for col in date_columns:\n",
    "    print(col)\n",
    "    if col in order_conditions.keys():\n",
    "        \n",
    "        # Select subset of rows and process\n",
    "        D_tmp = D.loc[D[col+\"_Review\"] == 'SUSPECTED_PARSE',:]\n",
    "        review1 = D_tmp.copy(deep=True)\n",
    "        D.loc[D[col+\"_Review\"] == 'SUSPECTED_PARSE',:] = process_one_col(D_tmp, col, order_conditions[col])\n",
    "        review2 = D.loc[review1.index,:].copy(deep=True)\n",
    "        \n",
    "        # Select subset of columns to view\n",
    "        review_cols = [col]\n",
    "        temp1 = [d['other_col'] for d in order_conditions[col]]\n",
    "        review_cols.extend(temp1)\n",
    "        temp2 = [c+'_Review' for c in review_cols]\n",
    "        review_cols.extend(temp2)\n",
    "        review = pd.concat([review1, review2]).sort_index()\n",
    "        \n",
    "        # Interleave original and modified rows for review\n",
    "        review = review.loc[:,review_cols]\n",
    "        print(review)\n",
    "        review.to_csv(\"../reviews/\"+col+\".csv\")"
   ]
  },
  {
   "cell_type": "code",
   "execution_count": null,
   "metadata": {},
   "outputs": [],
   "source": [
    "# Recompute overall status\n",
    "\n",
    "status_col = []\n",
    "\n",
    "m = D.shape[0]\n",
    "n = D.shape[1]\n",
    "\n",
    "i = 0\n",
    "\n",
    "for i in range(m):\n",
    "    if not i%1000:\n",
    "        print(\"Processed \"+str(i))\n",
    "    suspect_flag = False\n",
    "    bad_flag = False\n",
    "    for j in range(40, n):\n",
    "        if D.iloc[i,j].startswith(\"BAD\"):\n",
    "            bad_flag = True\n",
    "        if D.iloc[i,j].startswith(\"SUSPECTED\"):\n",
    "            suspect_flag = True\n",
    "            break\n",
    "    if suspect_flag:\n",
    "        status_col.append(\"SUSPECTED\")\n",
    "    elif bad_flag:\n",
    "        status_col.append(\"BAD\")\n",
    "    else:\n",
    "        status_col.append(\"GOOD\")\n",
    "    i += 1\n",
    "        \n",
    "D['overall_status'] = status_col "
   ]
  },
  {
   "cell_type": "code",
   "execution_count": null,
   "metadata": {},
   "outputs": [],
   "source": [
    "vc_2 = D.iloc[:,40:].apply(lambda x: x.value_counts()).T.stack()\n",
    "\n",
    "vc = pd.concat([vc_1.to_frame(), vc_2.to_frame()], axis=1)\n",
    "\n",
    "vc.to_csv(\"../reviews/value_counts_suspected_before_after.csv\")"
   ]
  },
  {
   "cell_type": "markdown",
   "metadata": {},
   "source": [
    "## Write out data"
   ]
  },
  {
   "cell_type": "code",
   "execution_count": null,
   "metadata": {},
   "outputs": [],
   "source": [
    "D.to_csv('../data/consolidated_wards_clean_final.csv', sep=',',index=False)"
   ]
  },
  {
   "cell_type": "code",
   "execution_count": null,
   "metadata": {},
   "outputs": [],
   "source": []
  }
 ],
 "metadata": {
  "kernelspec": {
   "display_name": "Python 3",
   "language": "python",
   "name": "python3"
  },
  "language_info": {
   "codemirror_mode": {
    "name": "ipython",
    "version": 3
   },
   "file_extension": ".py",
   "mimetype": "text/x-python",
   "name": "python",
   "nbconvert_exporter": "python",
   "pygments_lexer": "ipython3",
   "version": "3.8.3"
  }
 },
 "nbformat": 4,
 "nbformat_minor": 2
}
